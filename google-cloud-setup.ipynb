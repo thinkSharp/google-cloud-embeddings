{
 "cells": [
  {
   "cell_type": "code",
   "execution_count": 1,
   "id": "a2698762-66aa-4074-9510-049377d87f6d",
   "metadata": {},
   "outputs": [],
   "source": [
    "from google.auth.transport.requests import Request\n",
    "from google.oauth2.service_account import Credentials"
   ]
  },
  {
   "cell_type": "code",
   "execution_count": 6,
   "id": "5cdcf520-70a5-4f77-ac0c-2c7380e3963a",
   "metadata": {},
   "outputs": [],
   "source": [
    "key_path = '../google-cloud-project-keys/bubbly-area-346718.json'"
   ]
  },
  {
   "cell_type": "code",
   "execution_count": 3,
   "id": "b3154f25-343e-4e65-9197-0964ba42b4a5",
   "metadata": {},
   "outputs": [],
   "source": [
    "credentials = Credentials.from_service_account_file(key_path, scopes=['https://www.googleapis.com/auth/cloud-platform'])\n",
    "\n",
    "if credentials.expired:\n",
    "    credentials.refresh(Request())"
   ]
  },
  {
   "cell_type": "code",
   "execution_count": 4,
   "id": "e1406745-fb12-4eae-8bd6-63f02aed7819",
   "metadata": {},
   "outputs": [],
   "source": [
    "PROJECT_ID = 'bubbly-area-346718'\n",
    "REGION = 'us-central1'"
   ]
  },
  {
   "cell_type": "code",
   "execution_count": 5,
   "id": "33bb5319-4df5-41bb-ad10-74fb3609e387",
   "metadata": {},
   "outputs": [],
   "source": [
    "import vertexai\n",
    "vertexai.init(project=PROJECT_ID, location=REGION, credentials=credentials)"
   ]
  },
  {
   "cell_type": "code",
   "execution_count": null,
   "id": "583c71a7-4625-4a4f-9857-4fcfd7638d3a",
   "metadata": {},
   "outputs": [],
   "source": []
  }
 ],
 "metadata": {
  "kernelspec": {
   "display_name": "Python 3 (ipykernel)",
   "language": "python",
   "name": "python3"
  },
  "language_info": {
   "codemirror_mode": {
    "name": "ipython",
    "version": 3
   },
   "file_extension": ".py",
   "mimetype": "text/x-python",
   "name": "python",
   "nbconvert_exporter": "python",
   "pygments_lexer": "ipython3",
   "version": "3.12.4"
  }
 },
 "nbformat": 4,
 "nbformat_minor": 5
}
