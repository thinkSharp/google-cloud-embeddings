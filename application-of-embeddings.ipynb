{
 "cells": [
  {
   "cell_type": "code",
   "execution_count": 2,
   "id": "2e003173-5847-47b7-9ff7-6e763106a0ec",
   "metadata": {},
   "outputs": [],
   "source": [
    "from utils import get_credentials"
   ]
  },
  {
   "cell_type": "code",
   "execution_count": 3,
   "id": "56266178-b070-4b61-a7a0-ea79896b4eab",
   "metadata": {},
   "outputs": [],
   "source": [
    "key_path = '../google-cloud-project-keys/bubbly-area-346718.json'\n",
    "PROJECT_ID = 'bubbly-area-346718'\n",
    "REGION = 'us-central1'"
   ]
  },
  {
   "cell_type": "code",
   "execution_count": 22,
   "id": "a7850fb5-be53-46f4-a440-8ff0698d0ee4",
   "metadata": {},
   "outputs": [],
   "source": [
    "credentials = get_credentials(key_path)"
   ]
  },
  {
   "cell_type": "code",
   "execution_count": 23,
   "id": "8f302866-3d1e-47fa-81da-8fa52a88f3dc",
   "metadata": {},
   "outputs": [],
   "source": [
    "import vertexai\n",
    "\n",
    "vertexai.init(project= PROJECT_ID, location= REGION, credentials= credentials)"
   ]
  },
  {
   "cell_type": "code",
   "execution_count": 24,
   "id": "15896da3-abc5-4224-893e-2bdf65fffb16",
   "metadata": {},
   "outputs": [],
   "source": [
    "from vertexai.language_models import TextEmbeddingModel"
   ]
  },
  {
   "cell_type": "code",
   "execution_count": 25,
   "id": "451767aa-bb5e-4ee9-92e1-e494a6995b44",
   "metadata": {},
   "outputs": [],
   "source": [
    "embedding_model = TextEmbeddingModel.from_pretrained('textembedding-gecko@001')"
   ]
  },
  {
   "cell_type": "code",
   "execution_count": 26,
   "id": "63748b49-39f9-4596-8ac3-f8c3674a23fa",
   "metadata": {},
   "outputs": [],
   "source": [
    "embedding = embedding_model.get_embeddings(['life'])"
   ]
  },
  {
   "cell_type": "code",
   "execution_count": 27,
   "id": "9d700cf9-98a0-4901-886f-7e10ea23b526",
   "metadata": {},
   "outputs": [
    {
     "name": "stdout",
     "output_type": "stream",
     "text": [
      "Length = 768\n",
      "[-0.006005102302879095, 0.015532972291111946, -0.030447669327259064, 0.05322219058871269, 0.014444807544350624, -0.0542873740196228, 0.045140113681554794, 0.02127358317375183, -0.06537645310163498, 0.019103270024061203]\n"
     ]
    }
   ],
   "source": [
    "vector = embedding[0].values\n",
    "print(f'Length = {len(vector)}')\n",
    "print(vector[:10])"
   ]
  },
  {
   "cell_type": "code",
   "execution_count": 28,
   "id": "919feaa2-ef9d-42ad-aec9-9f0252a5b78c",
   "metadata": {},
   "outputs": [],
   "source": [
    "from sklearn.metrics.pairwise import cosine_similarity"
   ]
  },
  {
   "cell_type": "code",
   "execution_count": 29,
   "id": "37284737-8880-43ec-8e38-92d1c01c30df",
   "metadata": {},
   "outputs": [],
   "source": [
    "emb_1 = embedding_model.get_embeddings(\n",
    "    ['What is the meaning of life?'])\n",
    "\n",
    "emb_2 = embedding_model.get_embeddings(\n",
    "    ['How does one spend their time well on Earth?'])\n",
    "\n",
    "emb_3 = embedding_model.get_embeddings(\n",
    "    ['Would you like a salad?']\n",
    ")\n",
    "\n",
    "vec_1 = [emb_1[0].values]\n",
    "vec_2 = [emb_2[0].values]\n",
    "vec_3 = [emb_3[0].values]"
   ]
  },
  {
   "cell_type": "raw",
   "id": "cc7201b0-f934-4bfa-b5af-3040e7dcb4a7",
   "metadata": {},
   "source": [
    "print(cosine_similarity(vec_1, vec_2))\n",
    "print(cosine_similarity(vec_2, vec_3))\n",
    "print(cosine_similarity(vec_1, vec_3))"
   ]
  },
  {
   "cell_type": "code",
   "execution_count": 30,
   "id": "8977177b-4e51-4236-bb47-8cc852157540",
   "metadata": {},
   "outputs": [
    {
     "name": "stdout",
     "output_type": "stream",
     "text": [
      "[[0.65503744]]\n",
      "[[0.52001556]]\n",
      "[[0.54139322]]\n"
     ]
    }
   ],
   "source": [
    "print(cosine_similarity(vec_1, vec_2))\n",
    "print(cosine_similarity(vec_2, vec_3))\n",
    "print(cosine_similarity(vec_1, vec_3))"
   ]
  },
  {
   "cell_type": "code",
   "execution_count": 31,
   "id": "88c3d7da-15fd-44b2-8d7c-5936d6ff6c7f",
   "metadata": {},
   "outputs": [],
   "source": [
    "in_1 = 'The kids play in the park.'\n",
    "in_2 = 'The play was for kids in the park.'"
   ]
  },
  {
   "cell_type": "code",
   "execution_count": 32,
   "id": "665a5131-d0a1-43e2-8b8e-1b2781c1f4e9",
   "metadata": {},
   "outputs": [],
   "source": [
    "in_pp_1 = ['kids', 'play', 'park']\n",
    "in_pp_2 = ['play', 'kids', 'park']"
   ]
  },
  {
   "cell_type": "code",
   "execution_count": 33,
   "id": "596a494f-efd3-4b6d-b9e2-d650e8e0c69c",
   "metadata": {},
   "outputs": [],
   "source": [
    "embeddings_1 = [emb.values for emb in embedding_model.get_embeddings(in_pp_1)]"
   ]
  },
  {
   "cell_type": "code",
   "execution_count": 34,
   "id": "ad5c00d5-fd77-4b5c-8b95-e5cff9f65739",
   "metadata": {},
   "outputs": [
    {
     "name": "stdout",
     "output_type": "stream",
     "text": [
      "(3, 768)\n"
     ]
    }
   ],
   "source": [
    "import numpy as np\n",
    "emb_array_1 = np.stack(embeddings_1)\n",
    "print(emb_array_1.shape)"
   ]
  },
  {
   "cell_type": "code",
   "execution_count": 35,
   "id": "4d58729f-2551-46ab-8dd0-3641d6633688",
   "metadata": {},
   "outputs": [],
   "source": [
    "embedding_1 = embedding_model.get_embeddings([in_1])\n",
    "embedding_2 = embedding_model.get_embeddings([in_2])"
   ]
  },
  {
   "cell_type": "code",
   "execution_count": 36,
   "id": "7596abc0-2792-47eb-84ae-8dcd61f136ec",
   "metadata": {},
   "outputs": [
    {
     "name": "stdout",
     "output_type": "stream",
     "text": [
      "[0.0039385221898555756, -0.020830577239394188, -0.002994248876348138, -0.007580515928566456]\n",
      "[-0.01565515622496605, -0.012884826399385929, 0.01229254249483347, -0.0005865463172085583]\n"
     ]
    }
   ],
   "source": [
    "vector_1 = embedding_1[0].values\n",
    "print(vector_1[:4])\n",
    "vector_2 = embedding_2[0].values\n",
    "print(vector_2[:4])"
   ]
  },
  {
   "cell_type": "code",
   "execution_count": null,
   "id": "c72746cc-19da-4014-9f5c-214456f36415",
   "metadata": {},
   "outputs": [],
   "source": []
  }
 ],
 "metadata": {
  "kernelspec": {
   "display_name": "Python 3 (ipykernel)",
   "language": "python",
   "name": "python3"
  },
  "language_info": {
   "codemirror_mode": {
    "name": "ipython",
    "version": 3
   },
   "file_extension": ".py",
   "mimetype": "text/x-python",
   "name": "python",
   "nbconvert_exporter": "python",
   "pygments_lexer": "ipython3",
   "version": "3.12.4"
  }
 },
 "nbformat": 4,
 "nbformat_minor": 5
}
