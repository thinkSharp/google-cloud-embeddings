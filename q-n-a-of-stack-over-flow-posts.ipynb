{
 "cells": [
  {
   "cell_type": "code",
   "execution_count": 47,
   "id": "2e4dd1ed-7e7c-46ea-ace6-7f117d32890b",
   "metadata": {},
   "outputs": [],
   "source": [
    "from utils import get_credentials\n",
    "key_path = '../google-cloud-project-keys/bubbly-area-346718.json'\n",
    "PROJECT_ID = 'bubbly-area-346718'\n",
    "REGION = 'us-central1'\n",
    "credentials = get_credentials(key_path)"
   ]
  },
  {
   "cell_type": "code",
   "execution_count": 48,
   "id": "d306a4f9-d210-4ffe-808a-c0dc6e04a757",
   "metadata": {},
   "outputs": [],
   "source": [
    "import vertexai\n",
    "\n",
    "vertexai.init(project= PROJECT_ID, location= REGION, credentials= credentials)"
   ]
  },
  {
   "cell_type": "code",
   "execution_count": 49,
   "id": "4ab3e1f0-5871-47b5-809f-8ac37dd5cce1",
   "metadata": {},
   "outputs": [],
   "source": [
    "import pandas as pd"
   ]
  },
  {
   "cell_type": "code",
   "execution_count": 50,
   "id": "8ea4729e-167c-4eb2-8c6b-423797f070a6",
   "metadata": {},
   "outputs": [],
   "source": [
    "so_database = pd.read_csv('so_database_app.csv')"
   ]
  },
  {
   "cell_type": "code",
   "execution_count": 51,
   "id": "3b2d5ca0-434f-4635-90da-bd1ee7490055",
   "metadata": {},
   "outputs": [
    {
     "name": "stdout",
     "output_type": "stream",
     "text": [
      "shape(2000, 3)\n",
      "                                             input_text  \\\n",
      "0     python's inspect.getfile returns \"<string>\"<p>...   \n",
      "1     Passing parameter to function while multithrea...   \n",
      "2     How do we test a specific method written in a ...   \n",
      "3     how can i remove the black bg color of an imag...   \n",
      "4     How to extract each sheet within an Excel file...   \n",
      "...                                                 ...   \n",
      "1995  Is it possible to made inline-block elements l...   \n",
      "1996  Flip Clock code works on Codepen and doesn't w...   \n",
      "1997  React Native How can I put one view in front o...   \n",
      "1998  setting fixed width with 100% height of the pa...   \n",
      "1999  How to make sidebar button not bring viewpoint...   \n",
      "\n",
      "                                            output_text category  \n",
      "0     <p><code>&lt;string&gt;</code> means that the ...   python  \n",
      "1     <p>Try this and note the difference:</p>\\n<pre...   python  \n",
      "2     <p>Duplicate of <a href=\"https://stackoverflow...   python  \n",
      "3     <p>The alpha channel &quot;disappears&quot; be...   python  \n",
      "4     <p>You need to specify the <code>index</code> ...   python  \n",
      "...                                                 ...      ...  \n",
      "1995  <p>If this is only for the visual purpose then...      css  \n",
      "1996  <p>You forgot to attach the CSS file for the f...      css  \n",
      "1997  <p>You can do it using zIndex for example:</p>...      css  \n",
      "1998  <p>You can use <code>width: calc(100% - 100px)...      css  \n",
      "1999  <p>It is quite simple, just remove that href=\"...      css  \n",
      "\n",
      "[2000 rows x 3 columns]\n"
     ]
    }
   ],
   "source": [
    "print('shape' + str(so_database.shape))\n",
    "print(so_database)"
   ]
  },
  {
   "cell_type": "code",
   "execution_count": 52,
   "id": "09646d8f-72fe-4e15-bfe1-6415187eacd5",
   "metadata": {},
   "outputs": [],
   "source": [
    "from vertexai.language_models import TextEmbeddingModel\n"
   ]
  },
  {
   "cell_type": "code",
   "execution_count": 53,
   "id": "d06b4d00-0f08-4ef7-b93a-52df46ef24f6",
   "metadata": {},
   "outputs": [],
   "source": [
    "embedding_model = TextEmbeddingModel.from_pretrained('textembedding-gecko@001')"
   ]
  },
  {
   "cell_type": "code",
   "execution_count": 54,
   "id": "d448e819-b1c2-4e87-b166-be8e3263ab48",
   "metadata": {},
   "outputs": [
    {
     "name": "stdout",
     "output_type": "stream",
     "text": [
      "[[-0.03571156 -0.00240684  0.05860338 ... -0.03100227 -0.00855574\n",
      "  -0.01997405]\n",
      " [-0.02024316 -0.0026255   0.01940405 ... -0.02158143 -0.05655403\n",
      "  -0.01040497]\n",
      " [-0.05175979 -0.03712264  0.02699278 ... -0.07055898 -0.0402537\n",
      "   0.00092099]\n",
      " ...\n",
      " [-0.00580394 -0.01621097  0.05829635 ... -0.03350992 -0.05343556\n",
      "  -0.06016821]\n",
      " [-0.00436622 -0.02692963  0.03363771 ... -0.01686567 -0.03812337\n",
      "  -0.02329491]\n",
      " [-0.04240424 -0.01633749  0.05516777 ... -0.02697376 -0.01751165\n",
      "  -0.04558187]]\n"
     ]
    }
   ],
   "source": [
    "import pickle\n",
    "with open('question_embeddings_app.pkl', 'rb') as file:\n",
    "    question_embeddings = pickle.load(file)\n",
    "\n",
    "    print(question_embeddings)"
   ]
  },
  {
   "cell_type": "code",
   "execution_count": 55,
   "id": "70cb58d8-12a6-4f0d-b173-9a68c80f982a",
   "metadata": {},
   "outputs": [],
   "source": [
    "so_database['embeddings'] = question_embeddings.tolist()"
   ]
  },
  {
   "cell_type": "code",
   "execution_count": 56,
   "id": "edf40153-a374-416d-b805-6a5c7cf7adfa",
   "metadata": {},
   "outputs": [
    {
     "data": {
      "text/html": [
       "<div>\n",
       "<style scoped>\n",
       "    .dataframe tbody tr th:only-of-type {\n",
       "        vertical-align: middle;\n",
       "    }\n",
       "\n",
       "    .dataframe tbody tr th {\n",
       "        vertical-align: top;\n",
       "    }\n",
       "\n",
       "    .dataframe thead th {\n",
       "        text-align: right;\n",
       "    }\n",
       "</style>\n",
       "<table border=\"1\" class=\"dataframe\">\n",
       "  <thead>\n",
       "    <tr style=\"text-align: right;\">\n",
       "      <th></th>\n",
       "      <th>input_text</th>\n",
       "      <th>output_text</th>\n",
       "      <th>category</th>\n",
       "      <th>embeddings</th>\n",
       "    </tr>\n",
       "  </thead>\n",
       "  <tbody>\n",
       "    <tr>\n",
       "      <th>0</th>\n",
       "      <td>python's inspect.getfile returns \"&lt;string&gt;\"&lt;p&gt;...</td>\n",
       "      <td>&lt;p&gt;&lt;code&gt;&amp;lt;string&amp;gt;&lt;/code&gt; means that the ...</td>\n",
       "      <td>python</td>\n",
       "      <td>[-0.03571155667304993, -0.0024068362545222044,...</td>\n",
       "    </tr>\n",
       "    <tr>\n",
       "      <th>1</th>\n",
       "      <td>Passing parameter to function while multithrea...</td>\n",
       "      <td>&lt;p&gt;Try this and note the difference:&lt;/p&gt;\\n&lt;pre...</td>\n",
       "      <td>python</td>\n",
       "      <td>[-0.020243162289261818, -0.002625499852001667,...</td>\n",
       "    </tr>\n",
       "    <tr>\n",
       "      <th>2</th>\n",
       "      <td>How do we test a specific method written in a ...</td>\n",
       "      <td>&lt;p&gt;Duplicate of &lt;a href=\"https://stackoverflow...</td>\n",
       "      <td>python</td>\n",
       "      <td>[-0.05175979062914848, -0.03712264448404312, 0...</td>\n",
       "    </tr>\n",
       "    <tr>\n",
       "      <th>3</th>\n",
       "      <td>how can i remove the black bg color of an imag...</td>\n",
       "      <td>&lt;p&gt;The alpha channel &amp;quot;disappears&amp;quot; be...</td>\n",
       "      <td>python</td>\n",
       "      <td>[0.02206624671816826, -0.028208276256918907, 0...</td>\n",
       "    </tr>\n",
       "    <tr>\n",
       "      <th>4</th>\n",
       "      <td>How to extract each sheet within an Excel file...</td>\n",
       "      <td>&lt;p&gt;You need to specify the &lt;code&gt;index&lt;/code&gt; ...</td>\n",
       "      <td>python</td>\n",
       "      <td>[-0.05498068407177925, -0.0032414537854492664,...</td>\n",
       "    </tr>\n",
       "    <tr>\n",
       "      <th>...</th>\n",
       "      <td>...</td>\n",
       "      <td>...</td>\n",
       "      <td>...</td>\n",
       "      <td>...</td>\n",
       "    </tr>\n",
       "    <tr>\n",
       "      <th>1995</th>\n",
       "      <td>Is it possible to made inline-block elements l...</td>\n",
       "      <td>&lt;p&gt;If this is only for the visual purpose then...</td>\n",
       "      <td>css</td>\n",
       "      <td>[-0.009190441109240055, -0.01732615754008293, ...</td>\n",
       "    </tr>\n",
       "    <tr>\n",
       "      <th>1996</th>\n",
       "      <td>Flip Clock code works on Codepen and doesn't w...</td>\n",
       "      <td>&lt;p&gt;You forgot to attach the CSS file for the f...</td>\n",
       "      <td>css</td>\n",
       "      <td>[-0.009033069014549255, -0.0009270847076550126...</td>\n",
       "    </tr>\n",
       "    <tr>\n",
       "      <th>1997</th>\n",
       "      <td>React Native How can I put one view in front o...</td>\n",
       "      <td>&lt;p&gt;You can do it using zIndex for example:&lt;/p&gt;...</td>\n",
       "      <td>css</td>\n",
       "      <td>[-0.005803938489407301, -0.016210969537496567,...</td>\n",
       "    </tr>\n",
       "    <tr>\n",
       "      <th>1998</th>\n",
       "      <td>setting fixed width with 100% height of the pa...</td>\n",
       "      <td>&lt;p&gt;You can use &lt;code&gt;width: calc(100% - 100px)...</td>\n",
       "      <td>css</td>\n",
       "      <td>[-0.004366223234683275, -0.02692963369190693, ...</td>\n",
       "    </tr>\n",
       "    <tr>\n",
       "      <th>1999</th>\n",
       "      <td>How to make sidebar button not bring viewpoint...</td>\n",
       "      <td>&lt;p&gt;It is quite simple, just remove that href=\"...</td>\n",
       "      <td>css</td>\n",
       "      <td>[-0.04240424185991287, -0.016337493434548378, ...</td>\n",
       "    </tr>\n",
       "  </tbody>\n",
       "</table>\n",
       "<p>2000 rows × 4 columns</p>\n",
       "</div>"
      ],
      "text/plain": [
       "                                             input_text  \\\n",
       "0     python's inspect.getfile returns \"<string>\"<p>...   \n",
       "1     Passing parameter to function while multithrea...   \n",
       "2     How do we test a specific method written in a ...   \n",
       "3     how can i remove the black bg color of an imag...   \n",
       "4     How to extract each sheet within an Excel file...   \n",
       "...                                                 ...   \n",
       "1995  Is it possible to made inline-block elements l...   \n",
       "1996  Flip Clock code works on Codepen and doesn't w...   \n",
       "1997  React Native How can I put one view in front o...   \n",
       "1998  setting fixed width with 100% height of the pa...   \n",
       "1999  How to make sidebar button not bring viewpoint...   \n",
       "\n",
       "                                            output_text category  \\\n",
       "0     <p><code>&lt;string&gt;</code> means that the ...   python   \n",
       "1     <p>Try this and note the difference:</p>\\n<pre...   python   \n",
       "2     <p>Duplicate of <a href=\"https://stackoverflow...   python   \n",
       "3     <p>The alpha channel &quot;disappears&quot; be...   python   \n",
       "4     <p>You need to specify the <code>index</code> ...   python   \n",
       "...                                                 ...      ...   \n",
       "1995  <p>If this is only for the visual purpose then...      css   \n",
       "1996  <p>You forgot to attach the CSS file for the f...      css   \n",
       "1997  <p>You can do it using zIndex for example:</p>...      css   \n",
       "1998  <p>You can use <code>width: calc(100% - 100px)...      css   \n",
       "1999  <p>It is quite simple, just remove that href=\"...      css   \n",
       "\n",
       "                                             embeddings  \n",
       "0     [-0.03571155667304993, -0.0024068362545222044,...  \n",
       "1     [-0.020243162289261818, -0.002625499852001667,...  \n",
       "2     [-0.05175979062914848, -0.03712264448404312, 0...  \n",
       "3     [0.02206624671816826, -0.028208276256918907, 0...  \n",
       "4     [-0.05498068407177925, -0.0032414537854492664,...  \n",
       "...                                                 ...  \n",
       "1995  [-0.009190441109240055, -0.01732615754008293, ...  \n",
       "1996  [-0.009033069014549255, -0.0009270847076550126...  \n",
       "1997  [-0.005803938489407301, -0.016210969537496567,...  \n",
       "1998  [-0.004366223234683275, -0.02692963369190693, ...  \n",
       "1999  [-0.04240424185991287, -0.016337493434548378, ...  \n",
       "\n",
       "[2000 rows x 4 columns]"
      ]
     },
     "execution_count": 56,
     "metadata": {},
     "output_type": "execute_result"
    }
   ],
   "source": [
    "so_database"
   ]
  },
  {
   "cell_type": "code",
   "execution_count": 57,
   "id": "10204687-0031-43d7-912f-741348938073",
   "metadata": {},
   "outputs": [],
   "source": [
    "import numpy as np\n",
    "from sklearn.metrics.pairwise import cosine_similarity\n",
    "from sklearn.metrics import pairwise_distances_argmin as distances_argmin"
   ]
  },
  {
   "cell_type": "code",
   "execution_count": 58,
   "id": "da98e116-2b01-449b-b925-387f468c9743",
   "metadata": {},
   "outputs": [],
   "source": [
    "query = ['How to concat dataframes pandas']"
   ]
  },
  {
   "cell_type": "code",
   "execution_count": 59,
   "id": "bc4201ba-2981-41f9-92a7-8836012c8ad2",
   "metadata": {},
   "outputs": [],
   "source": [
    "query_embedding = embedding_model.get_embeddings(query)[0].values"
   ]
  },
  {
   "cell_type": "code",
   "execution_count": 60,
   "id": "74052022-7893-4bfd-a503-1d42f66a8b0d",
   "metadata": {},
   "outputs": [],
   "source": [
    "cos_sim_array = cosine_similarity([query_embedding], list(so_database.embeddings.values))"
   ]
  },
  {
   "cell_type": "code",
   "execution_count": 61,
   "id": "f96255f6-1338-4fbc-a5c9-b706b0dfb313",
   "metadata": {},
   "outputs": [
    {
     "data": {
      "text/plain": [
       "(1, 2000)"
      ]
     },
     "execution_count": 61,
     "metadata": {},
     "output_type": "execute_result"
    }
   ],
   "source": [
    "cos_sim_array.shape"
   ]
  },
  {
   "cell_type": "code",
   "execution_count": 62,
   "id": "1c9bcf51-1f5b-4d69-953e-3e2d6568d9b9",
   "metadata": {},
   "outputs": [],
   "source": [
    "index_doc_cosine = np.argmax(cos_sim_array)"
   ]
  },
  {
   "cell_type": "code",
   "execution_count": 63,
   "id": "656faa52-49b5-4ab9-a477-cba8869dd8b7",
   "metadata": {},
   "outputs": [],
   "source": [
    "index_doc_distances = distances_argmin([query_embedding], list(so_database.embeddings.values))"
   ]
  },
  {
   "cell_type": "code",
   "execution_count": 64,
   "id": "50514e91-ad10-4303-afbd-26f626288466",
   "metadata": {},
   "outputs": [
    {
     "data": {
      "text/plain": [
       "1143    Add a column name to a panda dataframe (multi ...\n",
       "Name: input_text, dtype: object"
      ]
     },
     "execution_count": 64,
     "metadata": {},
     "output_type": "execute_result"
    }
   ],
   "source": [
    "so_database.input_text[index_doc_distances]"
   ]
  },
  {
   "cell_type": "code",
   "execution_count": 65,
   "id": "b70adf67-4b3a-416b-8e97-5f142620f5ba",
   "metadata": {},
   "outputs": [
    {
     "data": {
      "text/html": [
       "<div>\n",
       "<style scoped>\n",
       "    .dataframe tbody tr th:only-of-type {\n",
       "        vertical-align: middle;\n",
       "    }\n",
       "\n",
       "    .dataframe tbody tr th {\n",
       "        vertical-align: top;\n",
       "    }\n",
       "\n",
       "    .dataframe thead th {\n",
       "        text-align: right;\n",
       "    }\n",
       "</style>\n",
       "<table border=\"1\" class=\"dataframe\">\n",
       "  <thead>\n",
       "    <tr style=\"text-align: right;\">\n",
       "      <th></th>\n",
       "      <th>input_text</th>\n",
       "      <th>output_text</th>\n",
       "      <th>category</th>\n",
       "      <th>embeddings</th>\n",
       "    </tr>\n",
       "  </thead>\n",
       "  <tbody>\n",
       "    <tr>\n",
       "      <th>0</th>\n",
       "      <td>python's inspect.getfile returns \"&lt;string&gt;\"&lt;p&gt;...</td>\n",
       "      <td>&lt;p&gt;&lt;code&gt;&amp;lt;string&amp;gt;&lt;/code&gt; means that the ...</td>\n",
       "      <td>python</td>\n",
       "      <td>[-0.03571155667304993, -0.0024068362545222044,...</td>\n",
       "    </tr>\n",
       "    <tr>\n",
       "      <th>1</th>\n",
       "      <td>Passing parameter to function while multithrea...</td>\n",
       "      <td>&lt;p&gt;Try this and note the difference:&lt;/p&gt;\\n&lt;pre...</td>\n",
       "      <td>python</td>\n",
       "      <td>[-0.020243162289261818, -0.002625499852001667,...</td>\n",
       "    </tr>\n",
       "    <tr>\n",
       "      <th>2</th>\n",
       "      <td>How do we test a specific method written in a ...</td>\n",
       "      <td>&lt;p&gt;Duplicate of &lt;a href=\"https://stackoverflow...</td>\n",
       "      <td>python</td>\n",
       "      <td>[-0.05175979062914848, -0.03712264448404312, 0...</td>\n",
       "    </tr>\n",
       "    <tr>\n",
       "      <th>3</th>\n",
       "      <td>how can i remove the black bg color of an imag...</td>\n",
       "      <td>&lt;p&gt;The alpha channel &amp;quot;disappears&amp;quot; be...</td>\n",
       "      <td>python</td>\n",
       "      <td>[0.02206624671816826, -0.028208276256918907, 0...</td>\n",
       "    </tr>\n",
       "    <tr>\n",
       "      <th>4</th>\n",
       "      <td>How to extract each sheet within an Excel file...</td>\n",
       "      <td>&lt;p&gt;You need to specify the &lt;code&gt;index&lt;/code&gt; ...</td>\n",
       "      <td>python</td>\n",
       "      <td>[-0.05498068407177925, -0.0032414537854492664,...</td>\n",
       "    </tr>\n",
       "  </tbody>\n",
       "</table>\n",
       "</div>"
      ],
      "text/plain": [
       "                                          input_text  \\\n",
       "0  python's inspect.getfile returns \"<string>\"<p>...   \n",
       "1  Passing parameter to function while multithrea...   \n",
       "2  How do we test a specific method written in a ...   \n",
       "3  how can i remove the black bg color of an imag...   \n",
       "4  How to extract each sheet within an Excel file...   \n",
       "\n",
       "                                         output_text category  \\\n",
       "0  <p><code>&lt;string&gt;</code> means that the ...   python   \n",
       "1  <p>Try this and note the difference:</p>\\n<pre...   python   \n",
       "2  <p>Duplicate of <a href=\"https://stackoverflow...   python   \n",
       "3  <p>The alpha channel &quot;disappears&quot; be...   python   \n",
       "4  <p>You need to specify the <code>index</code> ...   python   \n",
       "\n",
       "                                          embeddings  \n",
       "0  [-0.03571155667304993, -0.0024068362545222044,...  \n",
       "1  [-0.020243162289261818, -0.002625499852001667,...  \n",
       "2  [-0.05175979062914848, -0.03712264448404312, 0...  \n",
       "3  [0.02206624671816826, -0.028208276256918907, 0...  \n",
       "4  [-0.05498068407177925, -0.0032414537854492664,...  "
      ]
     },
     "execution_count": 65,
     "metadata": {},
     "output_type": "execute_result"
    }
   ],
   "source": [
    "so_database.head()\n"
   ]
  },
  {
   "cell_type": "code",
   "execution_count": 66,
   "id": "167858f1-1d23-459c-b6ec-7886b95ddeb4",
   "metadata": {},
   "outputs": [
    {
     "data": {
      "text/plain": [
       "1143    Add a column name to a panda dataframe (multi ...\n",
       "Name: input_text, dtype: object"
      ]
     },
     "execution_count": 66,
     "metadata": {},
     "output_type": "execute_result"
    }
   ],
   "source": [
    "so_database.input_text[index_doc_distances]"
   ]
  },
  {
   "cell_type": "code",
   "execution_count": 67,
   "id": "3f31c2bd-b635-4574-8734-d61ed26bc0b2",
   "metadata": {},
   "outputs": [
    {
     "data": {
      "text/plain": [
       "array([1143])"
      ]
     },
     "execution_count": 67,
     "metadata": {},
     "output_type": "execute_result"
    }
   ],
   "source": [
    "index_doc_distances"
   ]
  },
  {
   "cell_type": "code",
   "execution_count": 68,
   "id": "87387850-355a-4b67-b42f-2605f65a5512",
   "metadata": {},
   "outputs": [
    {
     "data": {
      "text/plain": [
       "'Add a column name to a panda dataframe (multi index)<p>I concatenate series objects, with existing column names together to a DataFrame in Pandas. The result looks like this:</p>\\n<pre><code>pd.concat([x, y, z], axis=1)\\n\\n\\n   X   |  Y   |   Z\\n  -------------------\\n  data | data | data\\n</code></pre>\\n<p>Now I want to insert another column name A above the column names X, Y, Z, for the whole DataFrame. This should look like this at the end:</p>\\n<pre><code>   A                  # New Column Name\\n  ------------------- \\n   X   |  Y   |   Z   # Old Column Names\\n  -------------------\\n  data | data | data \\n</code></pre>\\n<p>So far I did not find a solution how to insert a column name A above the existing columns names X, Y, Z for the complete DataFrame. I would be grateful for any help. :)</p>'"
      ]
     },
     "execution_count": 68,
     "metadata": {},
     "output_type": "execute_result"
    }
   ],
   "source": [
    "so_database.input_text[index_doc_cosine]"
   ]
  },
  {
   "cell_type": "code",
   "execution_count": 69,
   "id": "dc569db2-d894-4e33-9586-6e706bb23611",
   "metadata": {},
   "outputs": [
    {
     "data": {
      "text/plain": [
       "\"<p>Let's try with <code>MultiIndex.from_product</code> to create <code>MultiIndex</code> columns:</p>\\n<pre><code>df = pd.concat([x, y, z], axis=1)\\ndf.columns = pd.MultiIndex.from_product([['A'], df.columns])\\n</code></pre>\\n<hr />\\n<pre><code>A            \\nX     Y     Z\\ndata  data  data\\n</code></pre>\""
      ]
     },
     "execution_count": 69,
     "metadata": {},
     "output_type": "execute_result"
    }
   ],
   "source": [
    "so_database.output_text[index_doc_cosine]"
   ]
  },
  {
   "cell_type": "code",
   "execution_count": 70,
   "id": "dee82a8d-bb52-4e4e-900c-5cd5a2f09f0c",
   "metadata": {},
   "outputs": [],
   "source": [
    "from vertexai.language_models import TextGenerationModel"
   ]
  },
  {
   "cell_type": "code",
   "execution_count": 71,
   "id": "15f3c559-7c33-4826-8685-a1732e25bde4",
   "metadata": {},
   "outputs": [],
   "source": [
    "generation_model = TextGenerationModel.from_pretrained('text-bison@001')"
   ]
  },
  {
   "cell_type": "code",
   "execution_count": 72,
   "id": "838c8ac0-8494-46da-bd64-006c29f783a9",
   "metadata": {},
   "outputs": [],
   "source": [
    "context = 'Question: ' + so_database.input_text[index_doc_cosine] + \"\\n Answer: \" + so_database.output_text[index_doc_cosine]"
   ]
  },
  {
   "cell_type": "code",
   "execution_count": 73,
   "id": "80cd307b-be3f-4770-83b7-f3305f5364ec",
   "metadata": {},
   "outputs": [
    {
     "data": {
      "text/plain": [
       "np.int64(1143)"
      ]
     },
     "execution_count": 73,
     "metadata": {},
     "output_type": "execute_result"
    }
   ],
   "source": [
    "index_doc_cosine"
   ]
  },
  {
   "cell_type": "code",
   "execution_count": 74,
   "id": "b125737e-0cde-49fa-9cdd-934d019ba8a9",
   "metadata": {},
   "outputs": [],
   "source": [
    "prompt = f\"\"\"Here is the context: {context}\n",
    "             Using the relevant information from the context,\n",
    "             provide an answer to the query: {query}.\"\n",
    "             If the context doesn't provide \\\n",
    "             any relevant information, \\\n",
    "             answer with \\\n",
    "             [I couldn't find a good match in the \\\n",
    "             document database for your query]\n",
    "             \"\"\""
   ]
  },
  {
   "cell_type": "code",
   "execution_count": 75,
   "id": "329e952d-dfc2-4643-a09b-425820a6c3ff",
   "metadata": {},
   "outputs": [
    {
     "data": {
      "text/markdown": [
       "To concatenate dataframes in pandas, you can use the <code>concat()</code> function. The <code>concat()</code> function takes a list of dataframes as input and concatenates them along the specified axis. The default axis is 0, which means that the dataframes will be concatenated along the rows. To concatenate dataframes along the columns, you can specify the <code>axis</code> argument to be 1.\n",
       "\n",
       "Here is an example of how to concatenate two dataframes in pandas:\n",
       "\n",
       "```\n",
       "import pandas as pd\n",
       "\n",
       "df1 = pd.DataFrame({'A': [1, 2, 3], 'B': [4, 5, 6]})\n",
       "df2 = pd.DataFrame({'C': [7, 8, 9], 'D': [10, 11, 12]})\n",
       "\n",
       "df = pd.concat([df1, df2], axis=1)\n",
       "\n",
       "print(df)\n",
       "```\n",
       "\n",
       "This will output the following dataframe:\n",
       "\n",
       "```\n",
       "   A  B  C  D\n",
       "0  1  4  7 10\n",
       "1  2  5  8 11\n",
       "2  3  6  9 12\n",
       "```"
      ],
      "text/plain": [
       "<IPython.core.display.Markdown object>"
      ]
     },
     "metadata": {},
     "output_type": "display_data"
    }
   ],
   "source": [
    "from IPython.display import Markdown, display\n",
    "t_value = 0.2\n",
    "response = generation_model.predict(prompt = prompt, temperature = t_value, max_output_tokens =1024)\n",
    "display(Markdown(response.text))"
   ]
  },
  {
   "cell_type": "code",
   "execution_count": 76,
   "id": "67f084c3-60d9-48cb-ab14-a8f29f01bcb7",
   "metadata": {},
   "outputs": [],
   "source": [
    "# when document does not provide useful information"
   ]
  },
  {
   "cell_type": "code",
   "execution_count": 77,
   "id": "c65bbba5-1e87-4fba-a0be-1b611ed912a9",
   "metadata": {},
   "outputs": [],
   "source": [
    "query = ['How to make perfect lasagna']"
   ]
  },
  {
   "cell_type": "code",
   "execution_count": 78,
   "id": "cf75f969-5910-45e2-be6d-e519690a4141",
   "metadata": {},
   "outputs": [],
   "source": [
    "query_embedding = embedding_model.get_embeddings(query)[0].values"
   ]
  },
  {
   "cell_type": "code",
   "execution_count": 79,
   "id": "8afc02b6-ae77-40ef-bc79-2957b761aa6d",
   "metadata": {},
   "outputs": [
    {
     "data": {
      "text/plain": [
       "array([[0.54534061, 0.49939449, 0.52136036, ..., 0.46877691, 0.55854909,\n",
       "        0.49552776]])"
      ]
     },
     "execution_count": 79,
     "metadata": {},
     "output_type": "execute_result"
    }
   ],
   "source": [
    "cos_sim_array = cosine_similarity([query_embedding], list(so_database.embeddings.values))\n",
    "cos_sim_array"
   ]
  },
  {
   "cell_type": "code",
   "execution_count": 80,
   "id": "d61bef9c-23fb-4db9-9949-60d453ac6ed0",
   "metadata": {},
   "outputs": [],
   "source": [
    "index_doc = np.argmax(cos_sim_array)"
   ]
  },
  {
   "cell_type": "code",
   "execution_count": 81,
   "id": "9f24ab3e-932d-40fc-806e-6c609eff4390",
   "metadata": {},
   "outputs": [],
   "source": [
    "context = 'Question: ' + so_database.input_text[index_doc] + \"\\n Answer: \" + so_database.output_text[index_doc]"
   ]
  },
  {
   "cell_type": "code",
   "execution_count": 82,
   "id": "d4d1cf1d-6872-4798-9db7-220065fb8586",
   "metadata": {},
   "outputs": [],
   "source": [
    "prompt = f\"\"\"Here is the context: {context}\n",
    "             Using the relevant information from the context,\n",
    "             provide an answer to the query: {query}.\"\n",
    "             If the context doesn't provide \\\n",
    "             any relevant information, answer with \n",
    "             [I couldn't find a good match in the \\\n",
    "             document database for your query]\n",
    "             \"\"\""
   ]
  },
  {
   "cell_type": "code",
   "execution_count": 83,
   "id": "9a6f0257-00b1-476e-a18a-cfc059c7d4ae",
   "metadata": {},
   "outputs": [
    {
     "data": {
      "text/markdown": [
       "I couldn't find a good match in the document database for your query"
      ],
      "text/plain": [
       "<IPython.core.display.Markdown object>"
      ]
     },
     "metadata": {},
     "output_type": "display_data"
    }
   ],
   "source": [
    "t_value = 0.2\n",
    "response = generation_model.predict(prompt = prompt,\n",
    "                                    temperature = t_value,\n",
    "                                    max_output_tokens = 1024)\n",
    "display(Markdown(response.text))"
   ]
  },
  {
   "cell_type": "code",
   "execution_count": null,
   "id": "6198b855-6a8e-4c06-9190-6c1c4ee6d50f",
   "metadata": {},
   "outputs": [],
   "source": []
  }
 ],
 "metadata": {
  "kernelspec": {
   "display_name": "Python 3 (ipykernel)",
   "language": "python",
   "name": "python3"
  },
  "language_info": {
   "codemirror_mode": {
    "name": "ipython",
    "version": 3
   },
   "file_extension": ".py",
   "mimetype": "text/x-python",
   "name": "python",
   "nbconvert_exporter": "python",
   "pygments_lexer": "ipython3",
   "version": "3.12.4"
  }
 },
 "nbformat": 4,
 "nbformat_minor": 5
}
