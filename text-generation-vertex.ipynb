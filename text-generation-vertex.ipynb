{
 "cells": [
  {
   "cell_type": "code",
   "execution_count": 1,
   "id": "6393b09e-84aa-4104-b45e-a746fb4ea45d",
   "metadata": {},
   "outputs": [],
   "source": [
    "from utils import get_credentials"
   ]
  },
  {
   "cell_type": "code",
   "execution_count": 2,
   "id": "fcb7ce2f-3422-4f0e-a7df-dd0df95bd1dd",
   "metadata": {},
   "outputs": [],
   "source": [
    "key_path = '../google-cloud-project-keys/bubbly-area-346718.json'\n",
    "PROJECT_ID = 'bubbly-area-346718'\n",
    "REGION = 'us-central1'"
   ]
  },
  {
   "cell_type": "code",
   "execution_count": 3,
   "id": "244af39b-68d9-439c-bbfd-9a34f9e5d900",
   "metadata": {},
   "outputs": [],
   "source": [
    "credentials = get_credentials(key_path)"
   ]
  },
  {
   "cell_type": "code",
   "execution_count": 4,
   "id": "2e08a852-5b04-419c-879a-7ebca651ca38",
   "metadata": {},
   "outputs": [],
   "source": [
    "import vertexai\n",
    "\n",
    "vertexai.init(project= PROJECT_ID, location= REGION, credentials= credentials)"
   ]
  },
  {
   "cell_type": "code",
   "execution_count": 8,
   "id": "9a5b4ea0-aa34-430e-b9f9-9412a950cac8",
   "metadata": {},
   "outputs": [],
   "source": [
    "from vertexai.language_models import TextGenerationModel"
   ]
  },
  {
   "cell_type": "code",
   "execution_count": 9,
   "id": "604aee92-49cc-4e0c-956f-bb4b1aceb8b1",
   "metadata": {},
   "outputs": [],
   "source": [
    "generation_model = TextGenerationModel.from_pretrained('text-bison@001')"
   ]
  },
  {
   "cell_type": "code",
   "execution_count": 10,
   "id": "2cf1cedd-0a22-4bcc-9104-79db4644b87a",
   "metadata": {},
   "outputs": [],
   "source": [
    "prompt =  \"I'm a high school student. Recommend me a programming activity to improve my skills.\""
   ]
  },
  {
   "cell_type": "code",
   "execution_count": 11,
   "id": "ef78db41-dba6-4b2f-8c49-53ef396e7ea3",
   "metadata": {},
   "outputs": [
    {
     "name": "stdout",
     "output_type": "stream",
     "text": [
      "* **Write a program to solve a problem you're interested in.** This could be anything from a game to a tool to help you with your studies. The important thing is that you're interested in the problem and that you're motivated to solve it.\n",
      "* **Take a programming course.** There are many online and offline courses available, so you can find one that fits your schedule and learning style.\n",
      "* **Join a programming community.** There are many online and offline communities where you can connect with other programmers and learn from each other.\n",
      "* **Read programming books and articles.** There is a\n"
     ]
    }
   ],
   "source": [
    "print(generation_model.predict(prompt=prompt).text)"
   ]
  },
  {
   "cell_type": "code",
   "execution_count": 12,
   "id": "5b6b9875-f648-4011-8d3a-cfb27a825123",
   "metadata": {},
   "outputs": [],
   "source": [
    "prompt2 = \"\"\"\n",
    "I'm a high school student.\n",
    "Whilch of these activities do you suggest and why:\n",
    "a) learn Python\n",
    "b) learn Javascript\n",
    "c) learn Foretran\n",
    "\"\"\""
   ]
  },
  {
   "cell_type": "code",
   "execution_count": 14,
   "id": "4c8319ae-6d3f-43ae-a93f-1d4718f5bc87",
   "metadata": {},
   "outputs": [
    {
     "name": "stdout",
     "output_type": "stream",
     "text": [
      "I would suggest learning Python. Python is a general-purpose programming language that is easy to learn and use. It is also very popular, so there are many resources available to help you learn it. Python is used in a wide variety of applications, including web development, data science, and machine learning.\n"
     ]
    }
   ],
   "source": [
    "print(generation_model.predict(prompt=prompt2).text)"
   ]
  },
  {
   "cell_type": "code",
   "execution_count": 15,
   "id": "cf5bd0fd-7c8a-4a38-a20e-4587947450a8",
   "metadata": {},
   "outputs": [],
   "source": [
    "prompt3 = \"\"\" A bright and promising wildlife biologist \\\n",
    "named Jesse Plank (Amara Patel) is determined to make her \\\n",
    "mark on the world. \n",
    "Jesse moves to Texas for what she believes is her dream job, \n",
    "only to discover a dark secret that will make \\\n",
    "her question everything. \n",
    "In the new lab she quickly befriends the outgoing \\\n",
    "lab tech named Maya Jones (Chloe Nguyen), \n",
    "and the lab director Sam Porter (Fredrik Johansson). \n",
    "Together the trio work long hours on their research \\\n",
    "in a hope to change the world for good. \n",
    "Along the way they meet the comical \\\n",
    "Brenna Ode (Eleanor Garcia) who is a marketing lead \\\n",
    "at the research institute, \n",
    "and marine biologist Siri Teller (Freya Johansson).\n",
    "\n",
    "Extract the characters, their jobs \\\n",
    "and the actors who played them from the above message as a table\n",
    "\"\"\""
   ]
  },
  {
   "cell_type": "code",
   "execution_count": 17,
   "id": "77b11a0c-bd9e-45f3-ac03-934bdf82ff0a",
   "metadata": {},
   "outputs": [
    {
     "name": "stdout",
     "output_type": "stream",
     "text": [
      "| Character | Job | Actor |\n",
      "|---|---|---|\n",
      "| Jesse Plank | Wildlife Biologist | Amara Patel |\n",
      "| Maya Jones | Lab Tech | Chloe Nguyen |\n",
      "| Sam Porter | Lab Director | Fredrik Johansson |\n",
      "| Brenna Ode | Marketing Lead | Eleanor Garcia |\n",
      "| Siri Teller | Marine Biologist | Freya Johansson |\n"
     ]
    }
   ],
   "source": [
    "response = generation_model.predict(prompt=prompt3)\n",
    "\n",
    "print(response.text)"
   ]
  },
  {
   "cell_type": "markdown",
   "id": "11515e0d-81c1-4a87-a1df-e322bf436655",
   "metadata": {},
   "source": [
    "| Character | Job | Actor |\n",
    "|---|---|---|\n",
    "| Jesse Plank | Wildlife Biologist | Amara Patel |\n",
    "| Maya Jones | Lab Tech | Chloe Nguyen |\n",
    "| Sam Porter | Lab Director | Fredrik Johansson |\n",
    "| Brenna Ode | Marketing Lead | Eleanor Garcia |\n",
    "| Siri Teller | Marine Biologist | Freya Johansson |"
   ]
  },
  {
   "cell_type": "code",
   "execution_count": 18,
   "id": "9235b400-701d-41f3-b500-8b56cccfa256",
   "metadata": {},
   "outputs": [],
   "source": [
    "# Adjust creativity/Randomness\n",
    "\n",
    "temperature = 0.0\n",
    "prompt4 = \"\"\"\n",
    "Complete the sentence:\n",
    "As I prepared the picture frame,  I reach into my toolkit to fetch my:\"\"\""
   ]
  },
  {
   "cell_type": "code",
   "execution_count": 19,
   "id": "1fd98523-6857-45ba-8492-5c66c1126614",
   "metadata": {},
   "outputs": [
    {
     "name": "stdout",
     "output_type": "stream",
     "text": [
      "As I prepared the picture frame,  I reach into my toolkit to fetch my:\n",
      "\n",
      "- hammer\n",
      "- nails\n",
      "- saw\n",
      "- screwdriver\n",
      "\n",
      "The answer is \"hammer\".\n",
      "\n",
      "The sentence is about preparing a picture frame. We can assume that the person is going to hang the picture frame on the wall. So we need to find a tool that can be used to hang the picture frame. Hammer is a tool that can be used to hang the picture frame.\n"
     ]
    }
   ],
   "source": [
    "response = generation_model.predict(prompt=prompt4, temperature= temperature)\n",
    "print(response.text)"
   ]
  },
  {
   "cell_type": "code",
   "execution_count": 20,
   "id": "228fbd1d-e642-492e-910a-91483086891e",
   "metadata": {},
   "outputs": [],
   "source": [
    "temperature = 1.0"
   ]
  },
  {
   "cell_type": "code",
   "execution_count": 23,
   "id": "b10f0d0d-4541-4dbf-83fd-bc422d9aa699",
   "metadata": {},
   "outputs": [
    {
     "name": "stdout",
     "output_type": "stream",
     "text": [
      "I reach into my toolkit to fetch my hammer. Hammers are tools used for driving nails and other fastenings into wood and other materials.\n"
     ]
    }
   ],
   "source": [
    "response = generation_model.predict(prompt=prompt4, temperature= temperature)\n",
    "print(response.text)"
   ]
  },
  {
   "cell_type": "code",
   "execution_count": 24,
   "id": "d2edddb9-794b-4f1b-9c34-c0696d8de145",
   "metadata": {},
   "outputs": [],
   "source": [
    "# top P : the minimum set of tokens whose probabilities add up to probability p or greater"
   ]
  },
  {
   "cell_type": "code",
   "execution_count": 29,
   "id": "057de8ab-2ca3-411f-8bfe-85027b8bcc7e",
   "metadata": {},
   "outputs": [],
   "source": [
    "top_p = 0.7"
   ]
  },
  {
   "cell_type": "code",
   "execution_count": 30,
   "id": "fbafddc3-4489-4a60-b892-00411ccd76f1",
   "metadata": {},
   "outputs": [],
   "source": [
    "prompt5 = 'Write an advertisement for jackets that involves blue elephants and avocados.'"
   ]
  },
  {
   "cell_type": "code",
   "execution_count": 31,
   "id": "aee355fd-fc1f-4c39-9ded-685d68da95cf",
   "metadata": {},
   "outputs": [
    {
     "name": "stdout",
     "output_type": "stream",
     "text": [
      "**Introducing the new Blue Elephant Avocado Jacket!**\n",
      "\n",
      "This jacket is the perfect way to show your love of both blue elephants and avocados. It's made of soft, durable fabric that will keep you warm and comfortable all day long. The blue elephant print is sure to turn heads, and the avocado-shaped pockets are the perfect place to store your essentials.\n",
      "\n",
      "Whether you're wearing it to a music festival, a picnic in the park, or just running errands, the Blue Elephant Avocado Jacket is sure to make you smile. Order yours today!\n",
      "\n",
      "**Here are some of the features of the Blue\n"
     ]
    }
   ],
   "source": [
    "response = generation_model.predict(prompt=prompt5, temperature=0.9, top_p= top_p)\n",
    "print(response.text)"
   ]
  },
  {
   "cell_type": "code",
   "execution_count": 32,
   "id": "a55b1902-270a-46e7-8242-67a3e556eb7e",
   "metadata": {},
   "outputs": [],
   "source": [
    "# top K => limiting the number of next words to the top K most probable words\n",
    "# order topK , topP, temperature"
   ]
  },
  {
   "cell_type": "code",
   "execution_count": 38,
   "id": "90ec0208-e62a-4228-a01c-786aebdf7751",
   "metadata": {},
   "outputs": [],
   "source": [
    "top_k = 40\n",
    "top_p = 0.7"
   ]
  },
  {
   "cell_type": "code",
   "execution_count": 39,
   "id": "d38f959a-daad-4a39-99c3-e7dc6cef7846",
   "metadata": {},
   "outputs": [
    {
     "name": "stdout",
     "output_type": "stream",
     "text": [
      "**Introducing the new Blue Elephant Avocado Jacket!**\n",
      "\n",
      "This jacket is the perfect way to show off your unique style. With its bright blue color and fun avocado print, you'll be sure to turn heads wherever you go.\n",
      "\n",
      "The Blue Elephant Avocado Jacket is made from high-quality materials that will keep you warm and comfortable all day long. It's also water-resistant, so you can wear it on rainy days without worry.\n",
      "\n",
      "This jacket is perfect for any occasion. Whether you're running errands, going to a party, or just hanging out, the Blue Elephant Avocado Jacket will make you look\n"
     ]
    }
   ],
   "source": [
    "response = generation_model.predict(\n",
    "    prompt= prompt5,\n",
    "    temperature=0.9,\n",
    "    top_k=top_k,\n",
    "    top_p=top_p)\n",
    "\n",
    "print(response.text)"
   ]
  },
  {
   "cell_type": "code",
   "execution_count": null,
   "id": "ddb942c7-306b-447a-a9da-aeb1ad66aec1",
   "metadata": {},
   "outputs": [],
   "source": []
  }
 ],
 "metadata": {
  "kernelspec": {
   "display_name": "Python 3 (ipykernel)",
   "language": "python",
   "name": "python3"
  },
  "language_info": {
   "codemirror_mode": {
    "name": "ipython",
    "version": 3
   },
   "file_extension": ".py",
   "mimetype": "text/x-python",
   "name": "python",
   "nbconvert_exporter": "python",
   "pygments_lexer": "ipython3",
   "version": "3.12.4"
  }
 },
 "nbformat": 4,
 "nbformat_minor": 5
}
